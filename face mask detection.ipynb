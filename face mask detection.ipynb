{
 "cells": [
  {
   "cell_type": "markdown",
   "id": "0c27631c",
   "metadata": {},
   "source": [
    "# Face Mask Detection"
   ]
  },
  {
   "cell_type": "markdown",
   "id": "d2f79f9b",
   "metadata": {},
   "source": [
    "The goal of this project is to use CNN to determine whether or not a person is wearing a mask. In this project, we achieved a 92.02% accuracy in the training set and a 96% accuracy in the validation set."
   ]
  },
  {
   "cell_type": "markdown",
   "id": "82ac2ab7",
   "metadata": {},
   "source": [
    "Link to data set -> https://www.kaggle.com/datasets/ashishjangra27/face-mask-12k-images-dataset"
   ]
  },
  {
   "cell_type": "markdown",
   "id": "cabd5b2d",
   "metadata": {},
   "source": [
    "### Improting required libraries"
   ]
  },
  {
   "cell_type": "markdown",
   "id": "cac57c02",
   "metadata": {},
   "source": [
    "1. We are using tensorflow keras to build the model\n",
    "2. We are using pandas to create the dataset\n",
    "3. seaborn and matplotlib are used to visualize the data"
   ]
  },
  {
   "cell_type": "code",
   "execution_count": 58,
   "id": "40e0da8b",
   "metadata": {},
   "outputs": [],
   "source": [
    "import numpy as np\n",
    "import pandas as pd\n",
    "import cv2\n",
    "import os\n",
    "import sklearn\n",
    "import seaborn as sns\n",
    "import tensorflow\n",
    "from tensorflow.keras.models import Model\n",
    "from tensorflow.keras.layers import Dense, Flatten, Conv2D, GlobalAveragePooling2D, MaxPool2D, Activation, Input, Dropout\n",
    "from tensorflow.keras.optimizers import Adam\n",
    "from tensorflow.keras.losses import BinaryCrossentropy\n",
    "from tensorflow.keras.preprocessing.image import ImageDataGenerator, img_to_array, load_img\n",
    "import matplotlib.pyplot as plt"
   ]
  },
  {
   "cell_type": "markdown",
   "id": "aedb32bc",
   "metadata": {},
   "source": [
    "### Declaring the paths to the images"
   ]
  },
  {
   "cell_type": "markdown",
   "id": "24643ff5",
   "metadata": {},
   "source": [
    "1. mask_path is the path for images of people wearing masks\n",
    "2. nomask_path is the path for imagees of people who are not wearing masks"
   ]
  },
  {
   "cell_type": "code",
   "execution_count": 2,
   "id": "a1d40cc0",
   "metadata": {},
   "outputs": [],
   "source": [
    "mask_path = \"./Face Mask Dataset/data/WithMask/\"\n",
    "nomask_path = \"./Face Mask Dataset/data/WithoutMask/\""
   ]
  },
  {
   "cell_type": "markdown",
   "id": "1f40491a",
   "metadata": {},
   "source": [
    "### Loading the data"
   ]
  },
  {
   "cell_type": "markdown",
   "id": "26ae25b2",
   "metadata": {},
   "source": [
    "In the below cell, the images are being first loaded and stored in their respective lists. These lists are then used to create two dataframes, which are combined and shuffled to ensure that, upon splitting the dataset, we get a random split."
   ]
  },
  {
   "cell_type": "code",
   "execution_count": 3,
   "id": "9e7915b5",
   "metadata": {},
   "outputs": [
    {
     "data": {
      "text/html": [
       "<div>\n",
       "<style scoped>\n",
       "    .dataframe tbody tr th:only-of-type {\n",
       "        vertical-align: middle;\n",
       "    }\n",
       "\n",
       "    .dataframe tbody tr th {\n",
       "        vertical-align: top;\n",
       "    }\n",
       "\n",
       "    .dataframe thead th {\n",
       "        text-align: right;\n",
       "    }\n",
       "</style>\n",
       "<table border=\"1\" class=\"dataframe\">\n",
       "  <thead>\n",
       "    <tr style=\"text-align: right;\">\n",
       "      <th></th>\n",
       "      <th>images</th>\n",
       "      <th>label</th>\n",
       "    </tr>\n",
       "  </thead>\n",
       "  <tbody>\n",
       "    <tr>\n",
       "      <th>8297</th>\n",
       "      <td>./Face Mask Dataset/data/WithoutMask/3201.png</td>\n",
       "      <td>no mask</td>\n",
       "    </tr>\n",
       "    <tr>\n",
       "      <th>11674</th>\n",
       "      <td>./Face Mask Dataset/data/WithoutMask/892.png</td>\n",
       "      <td>no mask</td>\n",
       "    </tr>\n",
       "    <tr>\n",
       "      <th>6600</th>\n",
       "      <td>./Face Mask Dataset/data/WithoutMask/1658.png</td>\n",
       "      <td>no mask</td>\n",
       "    </tr>\n",
       "    <tr>\n",
       "      <th>8990</th>\n",
       "      <td>./Face Mask Dataset/data/WithoutMask/3840.png</td>\n",
       "      <td>no mask</td>\n",
       "    </tr>\n",
       "    <tr>\n",
       "      <th>7748</th>\n",
       "      <td>./Face Mask Dataset/data/WithoutMask/2705.png</td>\n",
       "      <td>no mask</td>\n",
       "    </tr>\n",
       "    <tr>\n",
       "      <th>...</th>\n",
       "      <td>...</td>\n",
       "      <td>...</td>\n",
       "    </tr>\n",
       "    <tr>\n",
       "      <th>8289</th>\n",
       "      <td>./Face Mask Dataset/data/WithoutMask/3195.png</td>\n",
       "      <td>no mask</td>\n",
       "    </tr>\n",
       "    <tr>\n",
       "      <th>10754</th>\n",
       "      <td>./Face Mask Dataset/data/WithoutMask/5450.png</td>\n",
       "      <td>no mask</td>\n",
       "    </tr>\n",
       "    <tr>\n",
       "      <th>175</th>\n",
       "      <td>./Face Mask Dataset/data/WithMask/1316.png</td>\n",
       "      <td>mask</td>\n",
       "    </tr>\n",
       "    <tr>\n",
       "      <th>10357</th>\n",
       "      <td>./Face Mask Dataset/data/WithoutMask/5090.png</td>\n",
       "      <td>no mask</td>\n",
       "    </tr>\n",
       "    <tr>\n",
       "      <th>4607</th>\n",
       "      <td>./Face Mask Dataset/data/WithMask/Augmented_69...</td>\n",
       "      <td>mask</td>\n",
       "    </tr>\n",
       "  </tbody>\n",
       "</table>\n",
       "<p>11792 rows × 2 columns</p>\n",
       "</div>"
      ],
      "text/plain": [
       "                                                  images    label\n",
       "8297       ./Face Mask Dataset/data/WithoutMask/3201.png  no mask\n",
       "11674       ./Face Mask Dataset/data/WithoutMask/892.png  no mask\n",
       "6600       ./Face Mask Dataset/data/WithoutMask/1658.png  no mask\n",
       "8990       ./Face Mask Dataset/data/WithoutMask/3840.png  no mask\n",
       "7748       ./Face Mask Dataset/data/WithoutMask/2705.png  no mask\n",
       "...                                                  ...      ...\n",
       "8289       ./Face Mask Dataset/data/WithoutMask/3195.png  no mask\n",
       "10754      ./Face Mask Dataset/data/WithoutMask/5450.png  no mask\n",
       "175           ./Face Mask Dataset/data/WithMask/1316.png     mask\n",
       "10357      ./Face Mask Dataset/data/WithoutMask/5090.png  no mask\n",
       "4607   ./Face Mask Dataset/data/WithMask/Augmented_69...     mask\n",
       "\n",
       "[11792 rows x 2 columns]"
      ]
     },
     "execution_count": 3,
     "metadata": {},
     "output_type": "execute_result"
    }
   ],
   "source": [
    "mask_list = []\n",
    "mask_lbl_list = []\n",
    "for i in os.listdir(mask_path):\n",
    "    img = os.path.join(mask_path + i)\n",
    "    mask_list.append(img)\n",
    "    mask_lbl_list.append(\"mask\")\n",
    "\n",
    "no_mask_list = []\n",
    "no_mask_lbl_list = []\n",
    "for i in os.listdir(nomask_path):\n",
    "    img = os.path.join(nomask_path + i)\n",
    "    no_mask_list.append(img)\n",
    "    no_mask_lbl_list.append(\"no mask\")\n",
    "\n",
    "mask_df = pd.DataFrame()\n",
    "mask_df[\"images\"] = mask_list\n",
    "mask_df[\"label\"] = mask_lbl_list\n",
    "\n",
    "no_mask_df = pd.DataFrame()\n",
    "no_mask_df[\"images\"] = no_mask_list\n",
    "no_mask_df[\"label\"] = no_mask_lbl_list\n",
    "\n",
    "dataset = pd.concat([mask_df, no_mask_df], axis = 0, ignore_index = True)\n",
    "\n",
    "dataset = dataset.sample(frac=1)\n",
    "dataset"
   ]
  },
  {
   "cell_type": "markdown",
   "id": "200d3653",
   "metadata": {},
   "source": [
    "### Visualising the dataset"
   ]
  },
  {
   "cell_type": "code",
   "execution_count": 4,
   "id": "568df81c",
   "metadata": {},
   "outputs": [
    {
     "data": {
      "text/plain": [
       "<AxesSubplot: xlabel='label', ylabel='count'>"
      ]
     },
     "execution_count": 4,
     "metadata": {},
     "output_type": "execute_result"
    },
    {
     "data": {
      "image/png": "[encoded data removed]",
      "text/plain": [
       "<Figure size 640x480 with 1 Axes>"
      ]
     },
     "metadata": {},
     "output_type": "display_data"
    }
   ],
   "source": [
    "sns.countplot(x=dataset[\"label\"])"
   ]
  },
  {
   "cell_type": "markdown",
   "id": "b7694b2b",
   "metadata": {},
   "source": [
    "### splitting the data"
   ]
  },
  {
   "cell_type": "code",
   "execution_count": 5,
   "id": "06985a7a",
   "metadata": {},
   "outputs": [],
   "source": [
    "X_train = dataset.iloc[0:10000, ]\n",
    "X_val = dataset.iloc[10001:11001, ]\n",
    "X_test = dataset.iloc[11002:, ]"
   ]
  },
  {
   "cell_type": "markdown",
   "id": "837c3dbf",
   "metadata": {},
   "source": [
    "### Creating the dataset"
   ]
  },
  {
   "cell_type": "markdown",
   "id": "f6b1f0b3",
   "metadata": {},
   "source": [
    "I have used ImageDataGenerator and flow_from_dataframe from tensorflow.keras.preprocessing.image to build the datasets from pandas dataframes"
   ]
  },
  {
   "cell_type": "code",
   "execution_count": 6,
   "id": "d3db9059",
   "metadata": {},
   "outputs": [
    {
     "name": "stdout",
     "output_type": "stream",
     "text": [
      "Found 10000 validated image filenames belonging to 2 classes.\n",
      "Found 1000 validated image filenames belonging to 2 classes.\n",
      "Found 790 validated image filenames belonging to 2 classes.\n"
     ]
    }
   ],
   "source": [
    "train_ds = ImageDataGenerator(rescale = 1./255, rotation_range=40, width_shift_range=0.2, height_shift_range=0.2,\n",
    "                              shear_range=0.2, zoom_range=0.2, horizontal_flip=True, fill_mode=\"nearest\")\n",
    "\n",
    "train_ds = train_ds.flow_from_dataframe(dataframe=X_train, x_col=\"images\", y_col=\"label\", target_size=(155, 155),\n",
    "                                        batch_size = 32, class_mode = \"binary\", color_mode = 'grayscale')\n",
    "\n",
    "val_ds = ImageDataGenerator(rescale = 1./255)\n",
    "val_ds = val_ds.flow_from_dataframe(dataframe=X_val, x_col=\"images\", y_col=\"label\", target_size=(155, 155),\n",
    "                                    batch_size = 32, class_mode = \"binary\", color_mode = 'grayscale')\n",
    "\n",
    "test_ds = ImageDataGenerator(rescale = 1./255)\n",
    "test_ds = test_ds.flow_from_dataframe(dataframe=X_test, x_col = \"images\", y_col = \"label\", target_size = (155, 155),\n",
    "                                          class_mode = \"binary\", color_mode = 'grayscale', batch_size = 32)"
   ]
  },
  {
   "cell_type": "markdown",
   "id": "b83d45ff",
   "metadata": {},
   "source": [
    "### Definig and building the model"
   ]
  },
  {
   "cell_type": "markdown",
   "id": "1ca30f7a",
   "metadata": {},
   "source": [
    "The model takes images of size 155x155 as input."
   ]
  },
  {
   "cell_type": "code",
   "execution_count": 10,
   "id": "e3264029",
   "metadata": {},
   "outputs": [],
   "source": [
    "def model_fn(input_shape = (155,155)):\n",
    "    x_input = Input(input_shape)\n",
    "    x = x_input\n",
    "    x = Conv2D(128, kernel_size = (3,3), strides = (1,1), padding = \"same\")(x)\n",
    "    x = Activation('relu')(x)\n",
    "    x = MaxPool2D((2,2))(x)\n",
    "    x = Conv2D(64, kernel_size = (3,3), strides = (1,1), padding = \"same\")(x)\n",
    "    x = Activation(\"relu\")(x)\n",
    "    x = MaxPool2D((3,3))(x)\n",
    "    x = Conv2D(32, kernel_size = (3,3), strides = (1,1), padding = \"valid\")(x)\n",
    "    x = Activation('relu')(x)\n",
    "    x = Conv2D(16, kernel_size = (3,3), strides = (1,1), padding = \"same\")(x)\n",
    "    x = Activation('relu')(x)\n",
    "    x = MaxPool2D((2,2))(x)\n",
    "    x = Conv2D(8, kernel_size = (3,3), strides = (1,1), padding = \"same\")(x)\n",
    "    x = Activation('relu')(x)\n",
    "    x = GlobalAveragePooling2D()(x)\n",
    "    x = Flatten()(x)\n",
    "    x = Dense(16)(x)\n",
    "    x = Activation('relu')(x)\n",
    "    x = Dropout(0.5)(x)\n",
    "    x = Dense(8)(x)\n",
    "    x = Activation('relu')(x)\n",
    "    x = Dropout(0.5)(x)\n",
    "    x = Dense(8)(x)\n",
    "    x = Activation('relu')(x)\n",
    "    x = Dense(1)(x)\n",
    "    x = Activation('sigmoid')(x)\n",
    "    model = Model(inputs = x_input, outputs = x, name = 'modelfn')\n",
    "    return model"
   ]
  },
  {
   "cell_type": "code",
   "execution_count": 11,
   "id": "1f5fe0eb",
   "metadata": {},
   "outputs": [],
   "source": [
    "model = model_fn(input_shape = (150,150,1))"
   ]
  },
  {
   "cell_type": "markdown",
   "id": "b55b1437",
   "metadata": {},
   "source": [
    "The loss function used is the BinaryCrossentropy.\n",
    "Adam optimizing algorithm is used with a learning rate of 1*e-4"
   ]
  },
  {
   "cell_type": "code",
   "execution_count": 12,
   "id": "18087ddf",
   "metadata": {},
   "outputs": [],
   "source": [
    "lossfn = BinaryCrossentropy()\n",
    "optimizerfn = Adam(0.0001)"
   ]
  },
  {
   "cell_type": "code",
   "execution_count": 13,
   "id": "ba2b6ae2",
   "metadata": {},
   "outputs": [],
   "source": [
    "model.compile(optimizer = optimizerfn, loss = lossfn, metrics = [\"accuracy\"])"
   ]
  },
  {
   "cell_type": "code",
   "execution_count": 14,
   "id": "340aec16",
   "metadata": {},
   "outputs": [
    {
     "name": "stdout",
     "output_type": "stream",
     "text": [
      "Model: \"modelfn\"\n",
      "_________________________________________________________________\n",
      " Layer (type)                Output Shape              Param #   \n",
      "=================================================================\n",
      " input_2 (InputLayer)        [(None, 150, 150, 1)]     0         \n",
      "                                                                 \n",
      " conv2d_5 (Conv2D)           (None, 150, 150, 128)     1280      \n",
      "                                                                 \n",
      " activation_6 (Activation)   (None, 150, 150, 128)     0         \n",
      "                                                                 \n",
      " max_pooling2d_3 (MaxPooling  (None, 75, 75, 128)      0         \n",
      " 2D)                                                             \n",
      "                                                                 \n",
      " conv2d_6 (Conv2D)           (None, 75, 75, 64)        73792     \n",
      "                                                                 \n",
      " activation_7 (Activation)   (None, 75, 75, 64)        0         \n",
      "                                                                 \n",
      " max_pooling2d_4 (MaxPooling  (None, 25, 25, 64)       0         \n",
      " 2D)                                                             \n",
      "                                                                 \n",
      " conv2d_7 (Conv2D)           (None, 23, 23, 32)        18464     \n",
      "                                                                 \n",
      " activation_8 (Activation)   (None, 23, 23, 32)        0         \n",
      "                                                                 \n",
      " conv2d_8 (Conv2D)           (None, 23, 23, 16)        4624      \n",
      "                                                                 \n",
      " activation_9 (Activation)   (None, 23, 23, 16)        0         \n",
      "                                                                 \n",
      " max_pooling2d_5 (MaxPooling  (None, 11, 11, 16)       0         \n",
      " 2D)                                                             \n",
      "                                                                 \n",
      " conv2d_9 (Conv2D)           (None, 11, 11, 8)         1160      \n",
      "                                                                 \n",
      " activation_10 (Activation)  (None, 11, 11, 8)         0         \n",
      "                                                                 \n",
      " global_average_pooling2d_1   (None, 8)                0         \n",
      " (GlobalAveragePooling2D)                                        \n",
      "                                                                 \n",
      " flatten_1 (Flatten)         (None, 8)                 0         \n",
      "                                                                 \n",
      " dense_1 (Dense)             (None, 16)                144       \n",
      "                                                                 \n",
      " activation_11 (Activation)  (None, 16)                0         \n",
      "                                                                 \n",
      " dropout (Dropout)           (None, 16)                0         \n",
      "                                                                 \n",
      " dense_2 (Dense)             (None, 8)                 136       \n",
      "                                                                 \n",
      " activation_12 (Activation)  (None, 8)                 0         \n",
      "                                                                 \n",
      " dropout_1 (Dropout)         (None, 8)                 0         \n",
      "                                                                 \n",
      " dense_3 (Dense)             (None, 8)                 72        \n",
      "                                                                 \n",
      " activation_13 (Activation)  (None, 8)                 0         \n",
      "                                                                 \n",
      " dense_4 (Dense)             (None, 1)                 9         \n",
      "                                                                 \n",
      " activation_14 (Activation)  (None, 1)                 0         \n",
      "                                                                 \n",
      "=================================================================\n",
      "Total params: 99,681\n",
      "Trainable params: 99,681\n",
      "Non-trainable params: 0\n",
      "_________________________________________________________________\n"
     ]
    }
   ],
   "source": [
    "model.summary()"
   ]
  },
  {
   "cell_type": "markdown",
   "id": "6e31fc2e",
   "metadata": {},
   "source": [
    "### Training the model"
   ]
  },
  {
   "cell_type": "code",
   "execution_count": 15,
   "id": "9c121171",
   "metadata": {},
   "outputs": [
    {
     "name": "stdout",
     "output_type": "stream",
     "text": [
      "Epoch 1/50\n",
      "313/313 [==============================] - 484s 2s/step - loss: 0.6931 - accuracy: 0.5051 - val_loss: 0.6922 - val_accuracy: 0.5200\n",
      "Epoch 2/50\n",
      "313/313 [==============================] - 478s 2s/step - loss: 0.6913 - accuracy: 0.5248 - val_loss: 0.6835 - val_accuracy: 0.5560\n",
      "Epoch 3/50\n",
      "313/313 [==============================] - 475s 2s/step - loss: 0.6869 - accuracy: 0.5294 - val_loss: 0.6618 - val_accuracy: 0.5630\n",
      "Epoch 4/50\n",
      "313/313 [==============================] - 475s 2s/step - loss: 0.6773 - accuracy: 0.5672 - val_loss: 0.6631 - val_accuracy: 0.6170\n",
      "Epoch 5/50\n",
      "313/313 [==============================] - 475s 2s/step - loss: 0.6720 - accuracy: 0.5876 - val_loss: 0.6515 - val_accuracy: 0.5630\n",
      "Epoch 6/50\n",
      "313/313 [==============================] - 475s 2s/step - loss: 0.6680 - accuracy: 0.6106 - val_loss: 0.6217 - val_accuracy: 0.6720\n",
      "Epoch 7/50\n",
      "313/313 [==============================] - 477s 2s/step - loss: 0.6607 - accuracy: 0.6196 - val_loss: 0.6055 - val_accuracy: 0.6620\n",
      "Epoch 8/50\n",
      "313/313 [==============================] - 476s 2s/step - loss: 0.6545 - accuracy: 0.6297 - val_loss: 0.6060 - val_accuracy: 0.6330\n",
      "Epoch 9/50\n",
      "313/313 [==============================] - 476s 2s/step - loss: 0.6462 - accuracy: 0.6441 - val_loss: 0.6162 - val_accuracy: 0.6670\n",
      "Epoch 10/50\n",
      "313/313 [==============================] - 479s 2s/step - loss: 0.6309 - accuracy: 0.6641 - val_loss: 0.5649 - val_accuracy: 0.7480\n",
      "Epoch 11/50\n",
      "313/313 [==============================] - 484s 2s/step - loss: 0.6236 - accuracy: 0.6815 - val_loss: 0.5746 - val_accuracy: 0.7650\n",
      "Epoch 12/50\n",
      "313/313 [==============================] - 489s 2s/step - loss: 0.6117 - accuracy: 0.6984 - val_loss: 0.5177 - val_accuracy: 0.8040\n",
      "Epoch 13/50\n",
      "313/313 [==============================] - 476s 2s/step - loss: 0.5853 - accuracy: 0.7310 - val_loss: 0.4841 - val_accuracy: 0.8370\n",
      "Epoch 14/50\n",
      "313/313 [==============================] - 478s 2s/step - loss: 0.5502 - accuracy: 0.7662 - val_loss: 0.4999 - val_accuracy: 0.8160\n",
      "Epoch 15/50\n",
      "313/313 [==============================] - 477s 2s/step - loss: 0.5124 - accuracy: 0.7906 - val_loss: 0.3819 - val_accuracy: 0.8950\n",
      "Epoch 16/50\n",
      "313/313 [==============================] - 480s 2s/step - loss: 0.4990 - accuracy: 0.7981 - val_loss: 0.3665 - val_accuracy: 0.8990\n",
      "Epoch 17/50\n",
      "313/313 [==============================] - 478s 2s/step - loss: 0.4505 - accuracy: 0.8338 - val_loss: 0.3268 - val_accuracy: 0.9010\n",
      "Epoch 18/50\n",
      "313/313 [==============================] - 478s 2s/step - loss: 0.4464 - accuracy: 0.8313 - val_loss: 0.3061 - val_accuracy: 0.9110\n",
      "Epoch 19/50\n",
      "313/313 [==============================] - 477s 2s/step - loss: 0.4198 - accuracy: 0.8475 - val_loss: 0.2933 - val_accuracy: 0.9070\n",
      "Epoch 20/50\n",
      "313/313 [==============================] - 477s 2s/step - loss: 0.4016 - accuracy: 0.8554 - val_loss: 0.2732 - val_accuracy: 0.9120\n",
      "Epoch 21/50\n",
      "313/313 [==============================] - 482s 2s/step - loss: 0.4038 - accuracy: 0.8531 - val_loss: 0.2618 - val_accuracy: 0.9180\n",
      "Epoch 22/50\n",
      "313/313 [==============================] - 481s 2s/step - loss: 0.3894 - accuracy: 0.8638 - val_loss: 0.2489 - val_accuracy: 0.9290\n",
      "Epoch 23/50\n",
      "313/313 [==============================] - 495s 2s/step - loss: 0.3735 - accuracy: 0.8708 - val_loss: 0.2522 - val_accuracy: 0.9180\n",
      "Epoch 24/50\n",
      "313/313 [==============================] - 502s 2s/step - loss: 0.3541 - accuracy: 0.8776 - val_loss: 0.2576 - val_accuracy: 0.9080\n",
      "Epoch 25/50\n",
      "313/313 [==============================] - 489s 2s/step - loss: 0.3510 - accuracy: 0.8731 - val_loss: 0.2214 - val_accuracy: 0.9280\n",
      "Epoch 26/50\n",
      "313/313 [==============================] - 482s 2s/step - loss: 0.3441 - accuracy: 0.8816 - val_loss: 0.2333 - val_accuracy: 0.9300\n",
      "Epoch 27/50\n",
      "313/313 [==============================] - 477s 2s/step - loss: 0.3207 - accuracy: 0.8897 - val_loss: 0.2148 - val_accuracy: 0.9230\n",
      "Epoch 28/50\n",
      "313/313 [==============================] - 478s 2s/step - loss: 0.3216 - accuracy: 0.8852 - val_loss: 0.1942 - val_accuracy: 0.9410\n",
      "Epoch 29/50\n",
      "313/313 [==============================] - 488s 2s/step - loss: 0.3216 - accuracy: 0.8883 - val_loss: 0.1995 - val_accuracy: 0.9340\n",
      "Epoch 30/50\n",
      "313/313 [==============================] - 487s 2s/step - loss: 0.3233 - accuracy: 0.8826 - val_loss: 0.1898 - val_accuracy: 0.9470\n",
      "Epoch 31/50\n",
      "313/313 [==============================] - 486s 2s/step - loss: 0.3082 - accuracy: 0.8917 - val_loss: 0.1944 - val_accuracy: 0.9430\n",
      "Epoch 32/50\n",
      "313/313 [==============================] - 487s 2s/step - loss: 0.2982 - accuracy: 0.8955 - val_loss: 0.1834 - val_accuracy: 0.9370\n",
      "Epoch 33/50\n",
      "313/313 [==============================] - 497s 2s/step - loss: 0.2824 - accuracy: 0.9017 - val_loss: 0.1846 - val_accuracy: 0.9370\n",
      "Epoch 34/50\n",
      "313/313 [==============================] - 521s 2s/step - loss: 0.2894 - accuracy: 0.8975 - val_loss: 0.1720 - val_accuracy: 0.9400\n",
      "Epoch 35/50\n",
      "313/313 [==============================] - 530s 2s/step - loss: 0.2797 - accuracy: 0.9006 - val_loss: 0.1648 - val_accuracy: 0.9460\n",
      "Epoch 36/50\n",
      "313/313 [==============================] - 542s 2s/step - loss: 0.2719 - accuracy: 0.9030 - val_loss: 0.1677 - val_accuracy: 0.9420\n",
      "Epoch 37/50\n",
      "313/313 [==============================] - 502s 2s/step - loss: 0.2721 - accuracy: 0.9059 - val_loss: 0.1631 - val_accuracy: 0.9530\n",
      "Epoch 38/50\n",
      "313/313 [==============================] - 482s 2s/step - loss: 0.2585 - accuracy: 0.9104 - val_loss: 0.1524 - val_accuracy: 0.9560\n",
      "Epoch 39/50\n",
      "313/313 [==============================] - 480s 2s/step - loss: 0.2592 - accuracy: 0.9112 - val_loss: 0.1883 - val_accuracy: 0.9230\n",
      "Epoch 40/50\n",
      "313/313 [==============================] - 480s 2s/step - loss: 0.2558 - accuracy: 0.9092 - val_loss: 0.1519 - val_accuracy: 0.9500\n",
      "Epoch 41/50\n",
      "313/313 [==============================] - 479s 2s/step - loss: 0.2628 - accuracy: 0.9078 - val_loss: 0.1383 - val_accuracy: 0.9600\n",
      "Epoch 42/50\n",
      "313/313 [==============================] - 478s 2s/step - loss: 0.2533 - accuracy: 0.9091 - val_loss: 0.1548 - val_accuracy: 0.9500\n",
      "Epoch 43/50\n",
      "313/313 [==============================] - 479s 2s/step - loss: 0.2527 - accuracy: 0.9139 - val_loss: 0.1983 - val_accuracy: 0.9170\n",
      "Epoch 44/50\n",
      "313/313 [==============================] - 480s 2s/step - loss: 0.2450 - accuracy: 0.9143 - val_loss: 0.1441 - val_accuracy: 0.9530\n",
      "Epoch 45/50\n",
      "313/313 [==============================] - 479s 2s/step - loss: 0.2395 - accuracy: 0.9140 - val_loss: 0.1448 - val_accuracy: 0.9560\n",
      "Epoch 46/50\n",
      "313/313 [==============================] - 479s 2s/step - loss: 0.2437 - accuracy: 0.9158 - val_loss: 0.1397 - val_accuracy: 0.9630\n",
      "Epoch 47/50\n",
      "313/313 [==============================] - 480s 2s/step - loss: 0.2237 - accuracy: 0.9232 - val_loss: 0.1349 - val_accuracy: 0.9620\n",
      "Epoch 48/50\n",
      "313/313 [==============================] - 478s 2s/step - loss: 0.2322 - accuracy: 0.9193 - val_loss: 0.1351 - val_accuracy: 0.9580\n",
      "Epoch 49/50\n",
      "313/313 [==============================] - 478s 2s/step - loss: 0.2307 - accuracy: 0.9202 - val_loss: 0.1311 - val_accuracy: 0.9610\n",
      "Epoch 50/50\n",
      "313/313 [==============================] - 478s 2s/step - loss: 0.2247 - accuracy: 0.9202 - val_loss: 0.1243 - val_accuracy: 0.9600\n"
     ]
    }
   ],
   "source": [
    "history = model.fit(train_ds, epochs=50,validation_data=val_ds)"
   ]
  },
  {
   "cell_type": "markdown",
   "id": "43bf28cc",
   "metadata": {},
   "source": [
    "### Visualising the loss and accuracy"
   ]
  },
  {
   "cell_type": "code",
   "execution_count": 19,
   "id": "7f74e54e",
   "metadata": {},
   "outputs": [
    {
     "data": {
      "image/png": "[encoded data removed]",
      "text/plain": [
       "<Figure size 1200x400 with 2 Axes>"
      ]
     },
     "metadata": {},
     "output_type": "display_data"
    }
   ],
   "source": [
    "fig, axes = plt.subplots(1, 2, figsize = (12, 4))\n",
    "\n",
    "sns.lineplot(x = range(len(history.history[\"loss\"])), y = history.history[\"loss\"], ax = axes[0], label = \"Training Loss\")\n",
    "sns.lineplot(x = range(len(history.history[\"loss\"])), y = history.history[\"val_loss\"], ax = axes[0], label = \"Validation Loss\")\n",
    "\n",
    "sns.lineplot(x = range(len(history.history[\"accuracy\"])), y = history.history[\"accuracy\"], ax = axes[1], label = \"Training Accuracy\")\n",
    "sns.lineplot(x = range(len(history.history[\"accuracy\"])), y = history.history[\"val_accuracy\"], ax = axes[1], label = \"Validation Accuracy\")\n",
    "axes[0].set_title(\"Loss\"); axes[1].set_title(\"Accuracy\")\n",
    "\n",
    "sns.despine()\n",
    "plt.show()"
   ]
  },
  {
   "cell_type": "markdown",
   "id": "a3266dd4",
   "metadata": {},
   "source": [
    "### Testing the model on the Test set"
   ]
  },
  {
   "cell_type": "markdown",
   "id": "3b8187d7",
   "metadata": {},
   "source": [
    "The model achieved an accuracy of 98% in the test set"
   ]
  },
  {
   "cell_type": "code",
   "execution_count": 21,
   "id": "dfdda04a",
   "metadata": {},
   "outputs": [
    {
     "name": "stdout",
     "output_type": "stream",
     "text": [
      "9/9 [==============================] - 3s 342ms/step - loss: 0.1196 - accuracy: 0.9757\n",
      "Test accuracy =  0.98\n"
     ]
    }
   ],
   "source": [
    "test_loss, test_acc = model.evaluate(test_ds, steps = 9)\n",
    "print(\"Test accuracy = \", round(test_acc, 2))"
   ]
  },
  {
   "cell_type": "markdown",
   "id": "0a1bc880",
   "metadata": {},
   "source": [
    "### Saving the model"
   ]
  },
  {
   "cell_type": "code",
   "execution_count": 16,
   "id": "da4cb53c",
   "metadata": {},
   "outputs": [],
   "source": [
    "model.save('face_mask_detection.h5')"
   ]
  }
 ],
 "metadata": {
  "kernelspec": {
   "display_name": "Python 3 (ipykernel)",
   "language": "python",
   "name": "python3"
  },
  "language_info": {
   "codemirror_mode": {
    "name": "ipython",
    "version": 3
   },
   "file_extension": ".py",
   "mimetype": "text/x-python",
   "name": "python",
   "nbconvert_exporter": "python",
   "pygments_lexer": "ipython3",
   "version": "3.10.8"
  }
 },
 "nbformat": 4,
 "nbformat_minor": 5
}
