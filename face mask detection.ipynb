{
 "cells": [
  {
   "cell_type": "markdown",
   "id": "0c27631c",
   "metadata": {},
   "source": [
    "# Face Mask Detection"
   ]
  },
  {
   "cell_type": "markdown",
   "id": "d2f79f9b",
   "metadata": {},
   "source": [
    "The goal of this project is to use CNN to determine whether or not a person is wearing a mask. In this project, we achieved a 92.02% accuracy in the training set and a 96% accuracy in the validation set."
   ]
  },
  {
   "cell_type": "markdown",
   "id": "82ac2ab7",
   "metadata": {},
   "source": [
    "Link to data set -> https://www.kaggle.com/datasets/ashishjangra27/face-mask-12k-images-dataset"
   ]
  },
  {
   "cell_type": "markdown",
   "id": "cabd5b2d",
   "metadata": {},
   "source": [
    "### Improting required libraries"
   ]
  },
  {
   "cell_type": "markdown",
   "id": "cac57c02",
   "metadata": {},
   "source": [
    "1. We are using tensorflow keras to build the model\n",
    "2. We are using pandas to create the dataset\n",
    "3. seaborn and matplotlib are used to visualize the data"
   ]
  },
  {
   "cell_type": "code",
   "execution_count": 1,
   "id": "40e0da8b",
   "metadata": {},
   "outputs": [],
   "source": [
    "import numpy as np\n",
    "import pandas as pd\n",
    "import cv2\n",
    "import os\n",
    "import sklearn\n",
    "import seaborn as sns\n",
    "import tensorflow\n",
    "from tensorflow.keras.models import Model\n",
    "from tensorflow.keras.layers import Dense, Flatten, Conv2D, GlobalAveragePooling2D, MaxPool2D, Activation, Input, Dropout\n",
    "from tensorflow.keras.optimizers import Adam\n",
    "from tensorflow.keras.losses import BinaryCrossentropy\n",
    "from tensorflow.keras.preprocessing.image import ImageDataGenerator, img_to_array, load_img\n",
    "import matplotlib.pyplot as plt"
   ]
  },
  {
   "cell_type": "code",
   "execution_count": 2,
   "id": "71451191-e556-400c-8b7c-48d12729611d",
   "metadata": {},
   "outputs": [
    {
     "data": {
      "text/plain": [
       "[PhysicalDevice(name='/physical_device:GPU:0', device_type='GPU')]"
      ]
     },
     "execution_count": 2,
     "metadata": {},
     "output_type": "execute_result"
    }
   ],
   "source": [
    "#import tensorflow\n",
    "physical_devices = tensorflow.config.list_physical_devices(\"GPU\")\n",
    "physical_devices"
   ]
  },
  {
   "cell_type": "code",
   "execution_count": 3,
   "id": "0b7b554b-bcd7-4ef1-b0c7-dd7f80a209ab",
   "metadata": {},
   "outputs": [],
   "source": [
    "tensorflow.config.experimental.set_memory_growth(physical_devices[0], True)"
   ]
  },
  {
   "cell_type": "markdown",
   "id": "aedb32bc",
   "metadata": {},
   "source": [
    "### Declaring the paths to the images"
   ]
  },
  {
   "cell_type": "markdown",
   "id": "24643ff5",
   "metadata": {},
   "source": [
    "1. mask_path is the path for images of people wearing masks\n",
    "2. nomask_path is the path for imagees of people who are not wearing masks"
   ]
  },
  {
   "cell_type": "code",
   "execution_count": 4,
   "id": "a1d40cc0",
   "metadata": {},
   "outputs": [],
   "source": [
    "mask_path = \"./Face Mask Dataset/data/WithMask/\"\n",
    "nomask_path = \"./Face Mask Dataset/data/WithoutMask/\""
   ]
  },
  {
   "cell_type": "markdown",
   "id": "1f40491a",
   "metadata": {},
   "source": [
    "### Loading the data"
   ]
  },
  {
   "cell_type": "markdown",
   "id": "26ae25b2",
   "metadata": {},
   "source": [
    "In the below cell, the images are being first loaded and stored in their respective lists. These lists are then used to create two dataframes, which are combined and shuffled to ensure that, upon splitting the dataset, we get a random split."
   ]
  },
  {
   "cell_type": "code",
   "execution_count": 5,
   "id": "9e7915b5",
   "metadata": {},
   "outputs": [
    {
     "data": {
      "text/html": [
       "<div>\n",
       "<style scoped>\n",
       "    .dataframe tbody tr th:only-of-type {\n",
       "        vertical-align: middle;\n",
       "    }\n",
       "\n",
       "    .dataframe tbody tr th {\n",
       "        vertical-align: top;\n",
       "    }\n",
       "\n",
       "    .dataframe thead th {\n",
       "        text-align: right;\n",
       "    }\n",
       "</style>\n",
       "<table border=\"1\" class=\"dataframe\">\n",
       "  <thead>\n",
       "    <tr style=\"text-align: right;\">\n",
       "      <th></th>\n",
       "      <th>images</th>\n",
       "      <th>label</th>\n",
       "    </tr>\n",
       "  </thead>\n",
       "  <tbody>\n",
       "    <tr>\n",
       "      <th>2154</th>\n",
       "      <td>./Face Mask Dataset/data/WithMask/Augmented_30...</td>\n",
       "      <td>mask</td>\n",
       "    </tr>\n",
       "    <tr>\n",
       "      <th>5791</th>\n",
       "      <td>./Face Mask Dataset/data/WithMask/Augmented_89...</td>\n",
       "      <td>mask</td>\n",
       "    </tr>\n",
       "    <tr>\n",
       "      <th>7118</th>\n",
       "      <td>./Face Mask Dataset/data/WithoutMask/2131.png</td>\n",
       "      <td>no mask</td>\n",
       "    </tr>\n",
       "    <tr>\n",
       "      <th>1132</th>\n",
       "      <td>./Face Mask Dataset/data/WithMask/Augmented_13...</td>\n",
       "      <td>mask</td>\n",
       "    </tr>\n",
       "    <tr>\n",
       "      <th>9162</th>\n",
       "      <td>./Face Mask Dataset/data/WithoutMask/4001.png</td>\n",
       "      <td>no mask</td>\n",
       "    </tr>\n",
       "    <tr>\n",
       "      <th>...</th>\n",
       "      <td>...</td>\n",
       "      <td>...</td>\n",
       "    </tr>\n",
       "    <tr>\n",
       "      <th>7014</th>\n",
       "      <td>./Face Mask Dataset/data/WithoutMask/2037.png</td>\n",
       "      <td>no mask</td>\n",
       "    </tr>\n",
       "    <tr>\n",
       "      <th>11403</th>\n",
       "      <td>./Face Mask Dataset/data/WithoutMask/643.png</td>\n",
       "      <td>no mask</td>\n",
       "    </tr>\n",
       "    <tr>\n",
       "      <th>3770</th>\n",
       "      <td>./Face Mask Dataset/data/WithMask/Augmented_56...</td>\n",
       "      <td>mask</td>\n",
       "    </tr>\n",
       "    <tr>\n",
       "      <th>3057</th>\n",
       "      <td>./Face Mask Dataset/data/WithMask/Augmented_44...</td>\n",
       "      <td>mask</td>\n",
       "    </tr>\n",
       "    <tr>\n",
       "      <th>9225</th>\n",
       "      <td>./Face Mask Dataset/data/WithoutMask/4059.png</td>\n",
       "      <td>no mask</td>\n",
       "    </tr>\n",
       "  </tbody>\n",
       "</table>\n",
       "<p>11792 rows × 2 columns</p>\n",
       "</div>"
      ],
      "text/plain": [
       "                                                  images    label\n",
       "2154   ./Face Mask Dataset/data/WithMask/Augmented_30...     mask\n",
       "5791   ./Face Mask Dataset/data/WithMask/Augmented_89...     mask\n",
       "7118       ./Face Mask Dataset/data/WithoutMask/2131.png  no mask\n",
       "1132   ./Face Mask Dataset/data/WithMask/Augmented_13...     mask\n",
       "9162       ./Face Mask Dataset/data/WithoutMask/4001.png  no mask\n",
       "...                                                  ...      ...\n",
       "7014       ./Face Mask Dataset/data/WithoutMask/2037.png  no mask\n",
       "11403       ./Face Mask Dataset/data/WithoutMask/643.png  no mask\n",
       "3770   ./Face Mask Dataset/data/WithMask/Augmented_56...     mask\n",
       "3057   ./Face Mask Dataset/data/WithMask/Augmented_44...     mask\n",
       "9225       ./Face Mask Dataset/data/WithoutMask/4059.png  no mask\n",
       "\n",
       "[11792 rows x 2 columns]"
      ]
     },
     "execution_count": 5,
     "metadata": {},
     "output_type": "execute_result"
    }
   ],
   "source": [
    "mask_list = []\n",
    "mask_lbl_list = []\n",
    "for i in os.listdir(mask_path):\n",
    "    img = os.path.join(mask_path + i)\n",
    "    mask_list.append(img)\n",
    "    mask_lbl_list.append(\"mask\")\n",
    "\n",
    "no_mask_list = []\n",
    "no_mask_lbl_list = []\n",
    "for i in os.listdir(nomask_path):\n",
    "    img = os.path.join(nomask_path + i)\n",
    "    no_mask_list.append(img)\n",
    "    no_mask_lbl_list.append(\"no mask\")\n",
    "\n",
    "mask_df = pd.DataFrame()\n",
    "mask_df[\"images\"] = mask_list\n",
    "mask_df[\"label\"] = mask_lbl_list\n",
    "\n",
    "no_mask_df = pd.DataFrame()\n",
    "no_mask_df[\"images\"] = no_mask_list\n",
    "no_mask_df[\"label\"] = no_mask_lbl_list\n",
    "\n",
    "dataset = pd.concat([mask_df, no_mask_df], axis = 0, ignore_index = True)\n",
    "\n",
    "dataset = dataset.sample(frac=1)\n",
    "dataset"
   ]
  },
  {
   "cell_type": "markdown",
   "id": "200d3653",
   "metadata": {},
   "source": [
    "### Visualising the dataset"
   ]
  },
  {
   "cell_type": "code",
   "execution_count": 6,
   "id": "568df81c",
   "metadata": {},
   "outputs": [
    {
     "data": {
      "text/plain": [
       "<Axes: xlabel='label', ylabel='count'>"
      ]
     },
     "execution_count": 6,
     "metadata": {},
     "output_type": "execute_result"
    },
    {
     "data": {
      "image/png": "[encoded data removed]",
      "text/plain": [
       "<Figure size 640x480 with 1 Axes>"
      ]
     },
     "metadata": {},
     "output_type": "display_data"
    }
   ],
   "source": [
    "sns.countplot(x=dataset[\"label\"])"
   ]
  },
  {
   "cell_type": "markdown",
   "id": "b7694b2b",
   "metadata": {},
   "source": [
    "### splitting the data"
   ]
  },
  {
   "cell_type": "code",
   "execution_count": 7,
   "id": "06985a7a",
   "metadata": {},
   "outputs": [],
   "source": [
    "X_train = dataset.iloc[0:10000, ]\n",
    "X_val = dataset.iloc[10001:11001, ]\n",
    "X_test = dataset.iloc[11002:, ]"
   ]
  },
  {
   "cell_type": "markdown",
   "id": "837c3dbf",
   "metadata": {},
   "source": [
    "### Creating the dataset"
   ]
  },
  {
   "cell_type": "markdown",
   "id": "f6b1f0b3",
   "metadata": {},
   "source": [
    "I have used ImageDataGenerator and flow_from_dataframe from tensorflow.keras.preprocessing.image to build the datasets from pandas dataframes"
   ]
  },
  {
   "cell_type": "code",
   "execution_count": 8,
   "id": "d3db9059",
   "metadata": {},
   "outputs": [
    {
     "name": "stdout",
     "output_type": "stream",
     "text": [
      "Found 10000 validated image filenames belonging to 2 classes.\n",
      "Found 1000 validated image filenames belonging to 2 classes.\n",
      "Found 790 validated image filenames belonging to 2 classes.\n"
     ]
    }
   ],
   "source": [
    "train_ds = ImageDataGenerator(rescale = 1./255, rotation_range=40, width_shift_range=0.2, height_shift_range=0.2,\n",
    "                              shear_range=0.2, zoom_range=0.2, horizontal_flip=True, fill_mode=\"nearest\")\n",
    "\n",
    "train_ds = train_ds.flow_from_dataframe(dataframe=X_train, x_col=\"images\", y_col=\"label\", target_size=(155, 155),\n",
    "                                        batch_size = 32, class_mode = \"binary\")\n",
    "\n",
    "val_ds = ImageDataGenerator(rescale = 1./255)\n",
    "val_ds = val_ds.flow_from_dataframe(dataframe=X_val, x_col=\"images\", y_col=\"label\", target_size=(155, 155),\n",
    "                                    batch_size = 32, class_mode = \"binary\")\n",
    "\n",
    "test_ds = ImageDataGenerator(rescale = 1./255)\n",
    "test_ds = test_ds.flow_from_dataframe(dataframe=X_test, x_col = \"images\", y_col = \"label\", target_size = (155, 155),\n",
    "                                          class_mode = \"binary\", batch_size = 32)"
   ]
  },
  {
   "cell_type": "markdown",
   "id": "b83d45ff",
   "metadata": {},
   "source": [
    "### Definig and building the model"
   ]
  },
  {
   "cell_type": "markdown",
   "id": "1ca30f7a",
   "metadata": {},
   "source": [
    "The model takes images of size 155x155 as input."
   ]
  },
  {
   "cell_type": "code",
   "execution_count": 9,
   "id": "e3264029",
   "metadata": {},
   "outputs": [],
   "source": [
    "def model_fn(input_shape = (155,155,3)):\n",
    "    x_input = Input(input_shape)\n",
    "    x = x_input\n",
    "    x = Conv2D(64, kernel_size = (3,3), strides = (1,1), padding = \"same\")(x)\n",
    "    x = Activation('relu')(x)\n",
    "    x = MaxPool2D((2,2))(x)\n",
    "    x = Conv2D(128, kernel_size = (3,3), strides = (1,1), padding = \"same\")(x)\n",
    "    x = Activation(\"relu\")(x)\n",
    "    x = MaxPool2D((3,3))(x)\n",
    "    x = Conv2D(256, kernel_size = (3,3), strides = (1,1), padding = \"valid\")(x)\n",
    "    x = Activation('relu')(x)\n",
    "    x = Conv2D(512, kernel_size = (3,3), strides = (1,1), padding = \"same\")(x)\n",
    "    x = Activation('relu')(x)\n",
    "    x = MaxPool2D((2,2))(x)\n",
    "    x = Conv2D(512, kernel_size = (3,3), strides = (1,1), padding = \"same\")(x)\n",
    "    x = Activation('relu')(x)\n",
    "    x = GlobalAveragePooling2D()(x)\n",
    "    x = Flatten()(x)\n",
    "    x = Dense(16)(x)\n",
    "    x = Activation('relu')(x)\n",
    "    x = Dropout(0.5)(x)\n",
    "    x = Dense(8)(x)\n",
    "    x = Activation('relu')(x)\n",
    "    x = Dropout(0.5)(x)\n",
    "    x = Dense(8)(x)\n",
    "    x = Activation('relu')(x)\n",
    "    x = Dense(1)(x)\n",
    "    x = Activation('sigmoid')(x)\n",
    "    model = Model(inputs = x_input, outputs = x, name = 'modelfn')\n",
    "    return model"
   ]
  },
  {
   "cell_type": "code",
   "execution_count": 10,
   "id": "1f5fe0eb",
   "metadata": {},
   "outputs": [],
   "source": [
    "model = model_fn(input_shape = (155,155,3))"
   ]
  },
  {
   "cell_type": "markdown",
   "id": "b55b1437",
   "metadata": {},
   "source": [
    "The loss function used is the BinaryCrossentropy.\n",
    "Adam optimizing algorithm is used with a learning rate of 1*e-4"
   ]
  },
  {
   "cell_type": "code",
   "execution_count": 11,
   "id": "18087ddf",
   "metadata": {},
   "outputs": [],
   "source": [
    "lossfn = BinaryCrossentropy()\n",
    "optimizerfn = Adam(0.0001)"
   ]
  },
  {
   "cell_type": "code",
   "execution_count": 12,
   "id": "ba2b6ae2",
   "metadata": {},
   "outputs": [],
   "source": [
    "model.compile(optimizer = optimizerfn, loss = lossfn, metrics = [\"accuracy\"])"
   ]
  },
  {
   "cell_type": "code",
   "execution_count": 13,
   "id": "340aec16",
   "metadata": {},
   "outputs": [
    {
     "name": "stdout",
     "output_type": "stream",
     "text": [
      "Model: \"modelfn\"\n",
      "_________________________________________________________________\n",
      " Layer (type)                Output Shape              Param #   \n",
      "=================================================================\n",
      " input_1 (InputLayer)        [(None, 155, 155, 3)]     0         \n",
      "                                                                 \n",
      " conv2d (Conv2D)             (None, 155, 155, 64)      1792      \n",
      "                                                                 \n",
      " activation (Activation)     (None, 155, 155, 64)      0         \n",
      "                                                                 \n",
      " max_pooling2d (MaxPooling2D  (None, 77, 77, 64)       0         \n",
      " )                                                               \n",
      "                                                                 \n",
      " conv2d_1 (Conv2D)           (None, 77, 77, 128)       73856     \n",
      "                                                                 \n",
      " activation_1 (Activation)   (None, 77, 77, 128)       0         \n",
      "                                                                 \n",
      " max_pooling2d_1 (MaxPooling  (None, 25, 25, 128)      0         \n",
      " 2D)                                                             \n",
      "                                                                 \n",
      " conv2d_2 (Conv2D)           (None, 23, 23, 256)       295168    \n",
      "                                                                 \n",
      " activation_2 (Activation)   (None, 23, 23, 256)       0         \n",
      "                                                                 \n",
      " conv2d_3 (Conv2D)           (None, 23, 23, 512)       1180160   \n",
      "                                                                 \n",
      " activation_3 (Activation)   (None, 23, 23, 512)       0         \n",
      "                                                                 \n",
      " max_pooling2d_2 (MaxPooling  (None, 11, 11, 512)      0         \n",
      " 2D)                                                             \n",
      "                                                                 \n",
      " conv2d_4 (Conv2D)           (None, 11, 11, 512)       2359808   \n",
      "                                                                 \n",
      " activation_4 (Activation)   (None, 11, 11, 512)       0         \n",
      "                                                                 \n",
      " global_average_pooling2d (G  (None, 512)              0         \n",
      " lobalAveragePooling2D)                                          \n",
      "                                                                 \n",
      " flatten (Flatten)           (None, 512)               0         \n",
      "                                                                 \n",
      " dense (Dense)               (None, 16)                8208      \n",
      "                                                                 \n",
      " activation_5 (Activation)   (None, 16)                0         \n",
      "                                                                 \n",
      " dropout (Dropout)           (None, 16)                0         \n",
      "                                                                 \n",
      " dense_1 (Dense)             (None, 8)                 136       \n",
      "                                                                 \n",
      " activation_6 (Activation)   (None, 8)                 0         \n",
      "                                                                 \n",
      " dropout_1 (Dropout)         (None, 8)                 0         \n",
      "                                                                 \n",
      " dense_2 (Dense)             (None, 8)                 72        \n",
      "                                                                 \n",
      " activation_7 (Activation)   (None, 8)                 0         \n",
      "                                                                 \n",
      " dense_3 (Dense)             (None, 1)                 9         \n",
      "                                                                 \n",
      " activation_8 (Activation)   (None, 1)                 0         \n",
      "                                                                 \n",
      "=================================================================\n",
      "Total params: 3,919,209\n",
      "Trainable params: 3,919,209\n",
      "Non-trainable params: 0\n",
      "_________________________________________________________________\n"
     ]
    }
   ],
   "source": [
    "model.summary()"
   ]
  },
  {
   "cell_type": "markdown",
   "id": "6e31fc2e",
   "metadata": {},
   "source": [
    "### Training the model"
   ]
  },
  {
   "cell_type": "code",
   "execution_count": 14,
   "id": "9c121171",
   "metadata": {},
   "outputs": [
    {
     "name": "stdout",
     "output_type": "stream",
     "text": [
      "Epoch 1/50\n",
      "313/313 [==============================] - 83s 253ms/step - loss: 0.5791 - accuracy: 0.7733 - val_loss: 0.4901 - val_accuracy: 0.8670\n",
      "Epoch 2/50\n",
      "313/313 [==============================] - 36s 114ms/step - loss: 0.5203 - accuracy: 0.8423 - val_loss: 0.4294 - val_accuracy: 0.9050\n",
      "Epoch 3/50\n",
      "313/313 [==============================] - 36s 114ms/step - loss: 0.4823 - accuracy: 0.8625 - val_loss: 0.3894 - val_accuracy: 0.9330\n",
      "Epoch 4/50\n",
      "313/313 [==============================] - 36s 114ms/step - loss: 0.4492 - accuracy: 0.8777 - val_loss: 0.3892 - val_accuracy: 0.9190\n",
      "Epoch 5/50\n",
      "313/313 [==============================] - 36s 114ms/step - loss: 0.4198 - accuracy: 0.8937 - val_loss: 0.3363 - val_accuracy: 0.9430\n",
      "Epoch 6/50\n",
      "313/313 [==============================] - 36s 113ms/step - loss: 0.4076 - accuracy: 0.8939 - val_loss: 0.3118 - val_accuracy: 0.9510\n",
      "Epoch 7/50\n",
      "313/313 [==============================] - 36s 114ms/step - loss: 0.3795 - accuracy: 0.9006 - val_loss: 0.2947 - val_accuracy: 0.9530\n",
      "Epoch 8/50\n",
      "313/313 [==============================] - 36s 114ms/step - loss: 0.3608 - accuracy: 0.9066 - val_loss: 0.2905 - val_accuracy: 0.9430\n",
      "Epoch 9/50\n",
      "313/313 [==============================] - 36s 114ms/step - loss: 0.3474 - accuracy: 0.9068 - val_loss: 0.2425 - val_accuracy: 0.9640\n",
      "Epoch 10/50\n",
      "313/313 [==============================] - 36s 115ms/step - loss: 0.3170 - accuracy: 0.9219 - val_loss: 0.2344 - val_accuracy: 0.9590\n",
      "Epoch 11/50\n",
      "313/313 [==============================] - 36s 116ms/step - loss: 0.3021 - accuracy: 0.9231 - val_loss: 0.2089 - val_accuracy: 0.9650\n",
      "Epoch 12/50\n",
      "313/313 [==============================] - 37s 118ms/step - loss: 0.2780 - accuracy: 0.9268 - val_loss: 0.1834 - val_accuracy: 0.9750\n",
      "Epoch 13/50\n",
      "313/313 [==============================] - 36s 115ms/step - loss: 0.2786 - accuracy: 0.9229 - val_loss: 0.1771 - val_accuracy: 0.9720\n",
      "Epoch 14/50\n",
      "313/313 [==============================] - 36s 114ms/step - loss: 0.2714 - accuracy: 0.9232 - val_loss: 0.1534 - val_accuracy: 0.9800\n",
      "Epoch 15/50\n",
      "313/313 [==============================] - 36s 113ms/step - loss: 0.2370 - accuracy: 0.9358 - val_loss: 0.1651 - val_accuracy: 0.9590\n",
      "Epoch 16/50\n",
      "313/313 [==============================] - 35s 113ms/step - loss: 0.2273 - accuracy: 0.9351 - val_loss: 0.1571 - val_accuracy: 0.9580\n",
      "Epoch 17/50\n",
      "313/313 [==============================] - 35s 113ms/step - loss: 0.2187 - accuracy: 0.9356 - val_loss: 0.1206 - val_accuracy: 0.9840\n",
      "Epoch 18/50\n",
      "313/313 [==============================] - 35s 113ms/step - loss: 0.2119 - accuracy: 0.9396 - val_loss: 0.1091 - val_accuracy: 0.9820\n",
      "Epoch 19/50\n",
      "313/313 [==============================] - 35s 113ms/step - loss: 0.2050 - accuracy: 0.9404 - val_loss: 0.1245 - val_accuracy: 0.9690\n",
      "Epoch 20/50\n",
      "313/313 [==============================] - 36s 113ms/step - loss: 0.2093 - accuracy: 0.9375 - val_loss: 0.0932 - val_accuracy: 0.9860\n",
      "Epoch 21/50\n",
      "313/313 [==============================] - 35s 113ms/step - loss: 0.1918 - accuracy: 0.9442 - val_loss: 0.0882 - val_accuracy: 0.9870\n",
      "Epoch 22/50\n",
      "313/313 [==============================] - 35s 113ms/step - loss: 0.1904 - accuracy: 0.9445 - val_loss: 0.1221 - val_accuracy: 0.9610\n",
      "Epoch 23/50\n",
      "313/313 [==============================] - 35s 113ms/step - loss: 0.1889 - accuracy: 0.9425 - val_loss: 0.0889 - val_accuracy: 0.9790\n",
      "Epoch 24/50\n",
      "313/313 [==============================] - 36s 113ms/step - loss: 0.1805 - accuracy: 0.9472 - val_loss: 0.0914 - val_accuracy: 0.9820\n",
      "Epoch 25/50\n",
      "313/313 [==============================] - 35s 113ms/step - loss: 0.1727 - accuracy: 0.9493 - val_loss: 0.1904 - val_accuracy: 0.9230\n",
      "Epoch 26/50\n",
      "313/313 [==============================] - 36s 113ms/step - loss: 0.1621 - accuracy: 0.9508 - val_loss: 0.0718 - val_accuracy: 0.9870\n",
      "Epoch 27/50\n",
      "313/313 [==============================] - 35s 113ms/step - loss: 0.1599 - accuracy: 0.9526 - val_loss: 0.0636 - val_accuracy: 0.9890\n",
      "Epoch 28/50\n",
      "313/313 [==============================] - 35s 113ms/step - loss: 0.1587 - accuracy: 0.9543 - val_loss: 0.0674 - val_accuracy: 0.9870\n",
      "Epoch 29/50\n",
      "313/313 [==============================] - 35s 113ms/step - loss: 0.1493 - accuracy: 0.9555 - val_loss: 0.0601 - val_accuracy: 0.9870\n",
      "Epoch 30/50\n",
      "313/313 [==============================] - 36s 115ms/step - loss: 0.1461 - accuracy: 0.9578 - val_loss: 0.0960 - val_accuracy: 0.9820\n",
      "Epoch 31/50\n",
      "313/313 [==============================] - 36s 113ms/step - loss: 0.1420 - accuracy: 0.9586 - val_loss: 0.0712 - val_accuracy: 0.9820\n",
      "Epoch 32/50\n",
      "313/313 [==============================] - 35s 113ms/step - loss: 0.1343 - accuracy: 0.9602 - val_loss: 0.0790 - val_accuracy: 0.9760\n",
      "Epoch 33/50\n",
      "313/313 [==============================] - 36s 115ms/step - loss: 0.1462 - accuracy: 0.9579 - val_loss: 0.0510 - val_accuracy: 0.9920\n",
      "Epoch 34/50\n",
      "313/313 [==============================] - 36s 114ms/step - loss: 0.1412 - accuracy: 0.9611 - val_loss: 0.0579 - val_accuracy: 0.9930\n",
      "Epoch 35/50\n",
      "313/313 [==============================] - 36s 113ms/step - loss: 0.1219 - accuracy: 0.9650 - val_loss: 0.0622 - val_accuracy: 0.9810\n",
      "Epoch 36/50\n",
      "313/313 [==============================] - 36s 114ms/step - loss: 0.1342 - accuracy: 0.9595 - val_loss: 0.0450 - val_accuracy: 0.9920\n",
      "Epoch 37/50\n",
      "313/313 [==============================] - 36s 115ms/step - loss: 0.1314 - accuracy: 0.9617 - val_loss: 0.0700 - val_accuracy: 0.9770\n",
      "Epoch 38/50\n",
      "313/313 [==============================] - 36s 114ms/step - loss: 0.1226 - accuracy: 0.9648 - val_loss: 0.0441 - val_accuracy: 0.9890\n",
      "Epoch 39/50\n",
      "313/313 [==============================] - 36s 113ms/step - loss: 0.1201 - accuracy: 0.9659 - val_loss: 0.0704 - val_accuracy: 0.9860\n",
      "Epoch 40/50\n",
      "313/313 [==============================] - 35s 113ms/step - loss: 0.1222 - accuracy: 0.9647 - val_loss: 0.0442 - val_accuracy: 0.9930\n",
      "Epoch 41/50\n",
      "313/313 [==============================] - 35s 113ms/step - loss: 0.1122 - accuracy: 0.9674 - val_loss: 0.0597 - val_accuracy: 0.9880\n",
      "Epoch 42/50\n",
      "313/313 [==============================] - 35s 113ms/step - loss: 0.1098 - accuracy: 0.9684 - val_loss: 0.0429 - val_accuracy: 0.9920\n",
      "Epoch 43/50\n",
      "313/313 [==============================] - 35s 113ms/step - loss: 0.1096 - accuracy: 0.9689 - val_loss: 0.0411 - val_accuracy: 0.9940\n",
      "Epoch 44/50\n",
      "313/313 [==============================] - 35s 113ms/step - loss: 0.0946 - accuracy: 0.9742 - val_loss: 0.0423 - val_accuracy: 0.9940\n",
      "Epoch 45/50\n",
      "313/313 [==============================] - 35s 113ms/step - loss: 0.1022 - accuracy: 0.9719 - val_loss: 0.0367 - val_accuracy: 0.9930\n",
      "Epoch 46/50\n",
      "313/313 [==============================] - 36s 113ms/step - loss: 0.1069 - accuracy: 0.9687 - val_loss: 0.0376 - val_accuracy: 0.9900\n",
      "Epoch 47/50\n",
      "313/313 [==============================] - 36s 114ms/step - loss: 0.1085 - accuracy: 0.9705 - val_loss: 0.0451 - val_accuracy: 0.9920\n",
      "Epoch 48/50\n",
      "313/313 [==============================] - 36s 114ms/step - loss: 0.0994 - accuracy: 0.9715 - val_loss: 0.0397 - val_accuracy: 0.9950\n",
      "Epoch 49/50\n",
      "313/313 [==============================] - 36s 115ms/step - loss: 0.1045 - accuracy: 0.9702 - val_loss: 0.0324 - val_accuracy: 0.9960\n",
      "Epoch 50/50\n",
      "313/313 [==============================] - 36s 114ms/step - loss: 0.1015 - accuracy: 0.9712 - val_loss: 0.0367 - val_accuracy: 0.9950\n"
     ]
    }
   ],
   "source": [
    "history = model.fit(train_ds, epochs=50,validation_data=val_ds)"
   ]
  },
  {
   "cell_type": "markdown",
   "id": "43bf28cc",
   "metadata": {},
   "source": [
    "### Visualising the loss and accuracy"
   ]
  },
  {
   "cell_type": "code",
   "execution_count": 15,
   "id": "7f74e54e",
   "metadata": {},
   "outputs": [
    {
     "name": "stderr",
     "output_type": "stream",
     "text": [
      "C:\\Users\\adity\\miniconda3\\envs\\tfgpu\\lib\\site-packages\\seaborn\\_oldcore.py:1119: FutureWarning: use_inf_as_na option is deprecated and will be removed in a future version. Convert inf values to NaN before operating instead.\n",
      "  with pd.option_context('mode.use_inf_as_na', True):\n",
      "C:\\Users\\adity\\miniconda3\\envs\\tfgpu\\lib\\site-packages\\seaborn\\_oldcore.py:1119: FutureWarning: use_inf_as_na option is deprecated and will be removed in a future version. Convert inf values to NaN before operating instead.\n",
      "  with pd.option_context('mode.use_inf_as_na', True):\n",
      "C:\\Users\\adity\\miniconda3\\envs\\tfgpu\\lib\\site-packages\\seaborn\\_oldcore.py:1119: FutureWarning: use_inf_as_na option is deprecated and will be removed in a future version. Convert inf values to NaN before operating instead.\n",
      "  with pd.option_context('mode.use_inf_as_na', True):\n",
      "C:\\Users\\adity\\miniconda3\\envs\\tfgpu\\lib\\site-packages\\seaborn\\_oldcore.py:1119: FutureWarning: use_inf_as_na option is deprecated and will be removed in a future version. Convert inf values to NaN before operating instead.\n",
      "  with pd.option_context('mode.use_inf_as_na', True):\n",
      "C:\\Users\\adity\\miniconda3\\envs\\tfgpu\\lib\\site-packages\\seaborn\\_oldcore.py:1119: FutureWarning: use_inf_as_na option is deprecated and will be removed in a future version. Convert inf values to NaN before operating instead.\n",
      "  with pd.option_context('mode.use_inf_as_na', True):\n",
      "C:\\Users\\adity\\miniconda3\\envs\\tfgpu\\lib\\site-packages\\seaborn\\_oldcore.py:1119: FutureWarning: use_inf_as_na option is deprecated and will be removed in a future version. Convert inf values to NaN before operating instead.\n",
      "  with pd.option_context('mode.use_inf_as_na', True):\n",
      "C:\\Users\\adity\\miniconda3\\envs\\tfgpu\\lib\\site-packages\\seaborn\\_oldcore.py:1119: FutureWarning: use_inf_as_na option is deprecated and will be removed in a future version. Convert inf values to NaN before operating instead.\n",
      "  with pd.option_context('mode.use_inf_as_na', True):\n",
      "C:\\Users\\adity\\miniconda3\\envs\\tfgpu\\lib\\site-packages\\seaborn\\_oldcore.py:1119: FutureWarning: use_inf_as_na option is deprecated and will be removed in a future version. Convert inf values to NaN before operating instead.\n",
      "  with pd.option_context('mode.use_inf_as_na', True):\n"
     ]
    },
    {
     "data": {
      "image/png": "[encoded data removed]",
      "text/plain": [
       "<Figure size 1200x400 with 2 Axes>"
      ]
     },
     "metadata": {},
     "output_type": "display_data"
    }
   ],
   "source": [
    "fig, axes = plt.subplots(1, 2, figsize = (12, 4))\n",
    "\n",
    "sns.lineplot(x = range(len(history.history[\"loss\"])), y = history.history[\"loss\"], ax = axes[0], label = \"Training Loss\")\n",
    "sns.lineplot(x = range(len(history.history[\"loss\"])), y = history.history[\"val_loss\"], ax = axes[0], label = \"Validation Loss\")\n",
    "\n",
    "sns.lineplot(x = range(len(history.history[\"accuracy\"])), y = history.history[\"accuracy\"], ax = axes[1], label = \"Training Accuracy\")\n",
    "sns.lineplot(x = range(len(history.history[\"accuracy\"])), y = history.history[\"val_accuracy\"], ax = axes[1], label = \"Validation Accuracy\")\n",
    "axes[0].set_title(\"Loss\"); axes[1].set_title(\"Accuracy\")\n",
    "\n",
    "sns.despine()\n",
    "plt.show()"
   ]
  },
  {
   "cell_type": "markdown",
   "id": "a3266dd4",
   "metadata": {},
   "source": [
    "### Testing the model on the Test set"
   ]
  },
  {
   "cell_type": "markdown",
   "id": "3b8187d7",
   "metadata": {},
   "source": [
    "The model achieved an accuracy of 98% in the test set"
   ]
  },
  {
   "cell_type": "code",
   "execution_count": 16,
   "id": "dfdda04a",
   "metadata": {},
   "outputs": [
    {
     "name": "stdout",
     "output_type": "stream",
     "text": [
      "9/9 [==============================] - 1s 124ms/step - loss: 0.0176 - accuracy: 1.0000\n",
      "Test accuracy =  1.0\n"
     ]
    }
   ],
   "source": [
    "test_loss, test_acc = model.evaluate(test_ds, steps = 9)\n",
    "print(\"Test accuracy = \", round(test_acc, 2))"
   ]
  },
  {
   "cell_type": "markdown",
   "id": "0a1bc880",
   "metadata": {},
   "source": [
    "### Saving the model"
   ]
  },
  {
   "cell_type": "code",
   "execution_count": 17,
   "id": "b01292a0-36f3-4725-9418-9882b2688c2e",
   "metadata": {},
   "outputs": [],
   "source": [
    "model_json = model.to_json()"
   ]
  },
  {
   "cell_type": "code",
   "execution_count": 18,
   "id": "9d10cac6-8e5e-44ec-8cb5-f01ccee7b957",
   "metadata": {},
   "outputs": [],
   "source": [
    "with open('model_json.json','w') as json_file:\n",
    "    json_file.write(model_json)"
   ]
  },
  {
   "cell_type": "code",
   "execution_count": 19,
   "id": "da4cb53c",
   "metadata": {},
   "outputs": [],
   "source": [
    "model.save('face_mask_detection.h5')"
   ]
  }
 ],
 "metadata": {
  "kernelspec": {
   "display_name": "'TFGPU'",
   "language": "python",
   "name": "tfgpu"
  },
  "language_info": {
   "codemirror_mode": {
    "name": "ipython",
    "version": 3
   },
   "file_extension": ".py",
   "mimetype": "text/x-python",
   "name": "python",
   "nbconvert_exporter": "python",
   "pygments_lexer": "ipython3",
   "version": "3.10.0"
  }
 },
 "nbformat": 4,
 "nbformat_minor": 5
}
